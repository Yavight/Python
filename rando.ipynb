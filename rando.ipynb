{
 "cells": [
  {
   "cell_type": "code",
   "execution_count": 3,
   "metadata": {},
   "outputs": [
    {
     "name": "stdout",
     "output_type": "stream",
     "text": [
      "1996\n",
      "2000\n",
      "2004\n",
      "2008\n"
     ]
    }
   ],
   "source": [
    "#lata przestępcze\n",
    "years_list = [1996, 1997, 1998, 1999, 2000, 2001, 2002, 2003, 2004, 2005, 2006, 2007, 2008, 2009, 2010]\n",
    "\n",
    "for years in years_list:\n",
    "    if years % 4 == 0:\n",
    "        print(years)"
   ]
  },
  {
   "cell_type": "code",
   "execution_count": 4,
   "metadata": {},
   "outputs": [
    {
     "name": "stdout",
     "output_type": "stream",
     "text": [
      "<function get_RGB at 0x105b1a200>\n",
      "\u001b[38;2;54;179;180m I am chasnging colors!\n",
      "\u001b[38;2;80;98;41m I am randomly changing colors!!!\n"
     ]
    }
   ],
   "source": [
    "#losowanie koloru tekstu\n",
    "import random\n",
    "import time\n",
    "from sty import fg\n",
    "\n",
    "def get_RGB():\n",
    "    red = random.randint(0, 256)\n",
    "    blue = random.randint(0, 256)\n",
    "    green = random.randint(0, 256)\n",
    "    return red, green, blue\n",
    "\n",
    "def get_color(red, green, blue):\n",
    "    return fg(red, green, blue)\n",
    "\n",
    "print (get_RGB)\n",
    "\n",
    "red, green, blue = get_RGB()\n",
    "color = get_color(red, green, blue)\n",
    "print(color, \"I am chasnging colors!\")\n",
    "\n",
    "for ite in range(1):\n",
    "    red, green, blue = get_RGB()\n",
    "    color = get_color(red, green, blue)\n",
    "    print(color, \"I am randomly changing colors!!!\")\n",
    "    time.sleep(0.1)"
   ]
  },
  {
   "cell_type": "code",
   "execution_count": 6,
   "metadata": {},
   "outputs": [
    {
     "name": "stdout",
     "output_type": "stream",
     "text": [
      "List of number:  [1, 2]\n",
      "Total sum of elements is:  3\n"
     ]
    }
   ],
   "source": [
    "#tworzenie listy przez uytkownika\n",
    "length_of_list = int(input(\"Provide length of the list\"))\n",
    "count = 0\n",
    "list_of_numbers=[]\n",
    "\n",
    "while count < length_of_list:\n",
    "    number = int(input(\"Provide a number: \"))\n",
    "    list_of_numbers.append(number)\n",
    "    count+=1\n",
    "\n",
    "print(\"List of number: \", list_of_numbers)\n",
    "\n",
    "total_sum = 0\n",
    "\n",
    "for number in list_of_numbers:\n",
    "    total_sum = total_sum + number\n",
    "\n",
    "print(\"Total sum of elements is: \", total_sum)"
   ]
  },
  {
   "cell_type": "code",
   "execution_count": null,
   "metadata": {},
   "outputs": [],
   "source": [
    "# zmienianie elementów listy ze stringów na integerów \n",
    "lista = [\"1\", \"2\", \"3\"]\n",
    "print(lista)\n",
    "\n",
    "for index in range(len(lista)):\n",
    "    print(lista[index])\n",
    "    print(\"Before modification: \", type(lista[index]))\n",
    "    lista[index] = int(lista[index])\n",
    "    print(\"After modification: \", type(lista[index]))\n",
    "\n",
    "    print(\"\\n\")\n",
    "\n",
    "print(lista)"
   ]
  },
  {
   "cell_type": "code",
   "execution_count": null,
   "metadata": {},
   "outputs": [],
   "source": [
    "#testy\n",
    "for ite in \"ABCDEF\":\n",
    "    print(ite)\n",
    "\n",
    "a = 1\n",
    "b = 3\n",
    "while a<b:\n",
    "    print( a, \"jest mniejsze od \", b)\n",
    "    a+=1"
   ]
  },
  {
   "cell_type": "code",
   "execution_count": null,
   "metadata": {},
   "outputs": [],
   "source": [
    "#dostosywanie temperatury\n",
    "temp_min = 18\n",
    "temp_max = 26\n",
    "\n",
    "temp = int(input(\"Jaka jest teraz temperatura?\"))\n",
    "\n",
    "#boolean\n",
    "too_low = temp < temp_min\n",
    "too_high = temp > temp_max\n",
    "\n",
    "while too_low or too_high:\n",
    "    print(\"Temperatura poza strefą komfortu!\")\n",
    "    if too_low:\n",
    "        temp += 5\n",
    "        print(\"Podniesiono tempraturę: \", temp)\n",
    "    if too_high:\n",
    "        temp += 5\n",
    "        print(\"Obniono temperatuę: \", temp)\n",
    "\n",
    "    too_low = temp < temp_min\n",
    "    too_high = temp > temp_max"
   ]
  },
  {
   "cell_type": "code",
   "execution_count": 8,
   "metadata": {},
   "outputs": [
    {
     "name": "stdout",
     "output_type": "stream",
     "text": [
      "<function get_RGB at 0x105b1b920>\n"
     ]
    }
   ],
   "source": [
    "import random\n",
    "from sty import fg\n",
    "\n",
    "def get_RGB():\n",
    "    red = random.randint(0, 256)\n",
    "    blue = random.randint(0, 256)\n",
    "    green = random.randint(0, 256)\n",
    "    return red, green, blue\n",
    "\n",
    "def get_color(red, green, blue):\n",
    "    return\n",
    "\n",
    "print (get_RGB)"
   ]
  },
  {
   "cell_type": "code",
   "execution_count": 1,
   "metadata": {},
   "outputs": [
    {
     "ename": "SyntaxError",
     "evalue": "incomplete input (1543090616.py, line 21)",
     "output_type": "error",
     "traceback": [
      "\u001b[0;36m  Cell \u001b[0;32mIn [1], line 21\u001b[0;36m\u001b[0m\n\u001b[0;31m    for ite in range(1):\u001b[0m\n\u001b[0m                        ^\u001b[0m\n\u001b[0;31mSyntaxError\u001b[0m\u001b[0;31m:\u001b[0m incomplete input\n"
     ]
    }
   ],
   "source": []
  },
  {
   "cell_type": "code",
   "execution_count": 42,
   "metadata": {},
   "outputs": [
    {
     "name": "stdout",
     "output_type": "stream",
     "text": [
      "Wybrany kolor:  blue\n"
     ]
    }
   ],
   "source": [
    "#sprawdza czy input jest na liście\n",
    "colors = [\"blue\", \"black\", \"red\"]\n",
    "color_choice = input(\"podaj kolor\")\n",
    "\n",
    "while color_choice not in colors:\n",
    "    color_choice = input(\"Kolor nie na liście\")\n",
    "\n",
    "print(\"Wybrany kolor: \", color_choice)"
   ]
  },
  {
   "cell_type": "code",
   "execution_count": null,
   "metadata": {},
   "outputs": [],
   "source": [
    "#lata przestępne z def\n",
    "years_list = [1996, 1997, 1998, 1999, 2000, 2001, 2002, 2003, 2004, 2005, 2006, 2007, 2008, 2009, 2010]\n",
    "leap_year = []\n",
    "\n",
    "def get_the_year(years_list):\n",
    "    leap_year = []\n",
    "    for year in years_list:\n",
    "        if year % 4 == 0:\n",
    "            leap_year.append(year)\n",
    "    return leap_year\n",
    "\n",
    "print(get_the_year(years_list))\n",
    "print(get_the_year([1996, 1997, 1998, 1999, 2000, 2001, 2002, 2003, 2004, 2005, 2006, 2007, 2008, 2009, 2010]\n",
    "))"
   ]
  },
  {
   "cell_type": "code",
   "execution_count": 46,
   "metadata": {},
   "outputs": [
    {
     "name": "stdout",
     "output_type": "stream",
     "text": [
      "Kolory do wyboru:  ['red', 'green', 'blue']\n",
      "Wybrano kolo:  red\n"
     ]
    }
   ],
   "source": [
    "#wybór koloru\n",
    "colors = [\"red\", \"green\", \"blue\"]\n",
    "\n",
    "def get_color(color_choice):\n",
    "    print(\"Kolory do wyboru: \", colors)\n",
    "    color_choice = \"\"\n",
    "    while color_choice not in colors:\n",
    "        color_choice = input(\"Wybierz kolo: \")\n",
    "    print(\"Wybrano kolo: \", color_choice)\n",
    "\n",
    "get_color(colors)"
   ]
  },
  {
   "cell_type": "code",
   "execution_count": 47,
   "metadata": {},
   "outputs": [
    {
     "name": "stdout",
     "output_type": "stream",
     "text": [
      "5 3\n"
     ]
    }
   ],
   "source": [
    "#swap\n",
    "def swap(a,b):\n",
    "    tmp = a\n",
    "    a = b\n",
    "    b = tmp\n",
    "    return a, b\n",
    "\n",
    "a, b = swap(3, 5)\n",
    "print(a, b)"
   ]
  },
  {
   "cell_type": "code",
   "execution_count": 49,
   "metadata": {},
   "outputs": [
    {
     "data": {
      "text/plain": [
       "[2, 4]"
      ]
     },
     "execution_count": 49,
     "metadata": {},
     "output_type": "execute_result"
    }
   ],
   "source": [
    "ints = []\n",
    "new_ints = []\n",
    "\n",
    "def get_int(ints):\n",
    "    for int in ints:\n",
    "        if int % 2 == 0:\n",
    "            new_ints.append(int)\n",
    "    return(new_ints)\n",
    "\n",
    "get_int([2, 3, 4, 5])\n"
   ]
  },
  {
   "cell_type": "code",
   "execution_count": 52,
   "metadata": {},
   "outputs": [
    {
     "name": "stdout",
     "output_type": "stream",
     "text": [
      "7\n"
     ]
    }
   ],
   "source": [
    "formula = input(\"Wybierz typ działania: +, -, /, *\")\n",
    "def kalk(a, b):\n",
    "    if formula == \"+\":\n",
    "        print(a+b)\n",
    "    elif formula == \"-\":\n",
    "        print(a-b)\n",
    "    elif formula == \"/\":\n",
    "        print(a/b)\n",
    "    else:\n",
    "        print(a*b)\n",
    "kalk(2, 5)"
   ]
  },
  {
   "cell_type": "code",
   "execution_count": null,
   "metadata": {},
   "outputs": [],
   "source": [
    "import random\n",
    "from sty import fg\n",
    "\n",
    "def get_RGB():\n",
    "    red = random.randint(0, 256)\n",
    "    blue = random.randint(0, 256)\n",
    "    green = random.randint(0, 256)\n",
    "    return red, green, blue\n",
    "\n",
    "def get_color(red, green, blue):\n",
    "    return\n",
    "\n",
    "print (get_RGB)\n"
   ]
  }
 ],
 "metadata": {
  "kernelspec": {
   "display_name": "Python 3.11.0 64-bit",
   "language": "python",
   "name": "python3"
  },
  "language_info": {
   "codemirror_mode": {
    "name": "ipython",
    "version": 3
   },
   "file_extension": ".py",
   "mimetype": "text/x-python",
   "name": "python",
   "nbconvert_exporter": "python",
   "pygments_lexer": "ipython3",
   "version": "3.11.0"
  },
  "orig_nbformat": 4,
  "vscode": {
   "interpreter": {
    "hash": "aee8b7b246df8f9039afb4144a1f6fd8d2ca17a180786b69acc140d282b71a49"
   }
  }
 },
 "nbformat": 4,
 "nbformat_minor": 2
}
